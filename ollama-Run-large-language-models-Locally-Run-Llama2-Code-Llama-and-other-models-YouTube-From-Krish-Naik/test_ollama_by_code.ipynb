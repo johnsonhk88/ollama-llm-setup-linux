{
 "cells": [
  {
   "cell_type": "code",
   "execution_count": 2,
   "metadata": {},
   "outputs": [
    {
     "name": "stdout",
     "output_type": "stream",
     "text": [
      "Defaulting to user installation because normal site-packages is not writeable\n",
      "Requirement already satisfied: langchain in /home/johnsonhk88/.local/lib/python3.10/site-packages (0.0.266)\n",
      "Requirement already satisfied: PyYAML>=5.3 in /home/johnsonhk88/.local/lib/python3.10/site-packages (from langchain) (6.0.1)\n",
      "Requirement already satisfied: SQLAlchemy<3,>=1.4 in /home/johnsonhk88/.local/lib/python3.10/site-packages (from langchain) (1.4.50)\n",
      "Requirement already satisfied: aiohttp<4.0.0,>=3.8.3 in /home/johnsonhk88/.local/lib/python3.10/site-packages (from langchain) (3.8.5)\n",
      "Requirement already satisfied: async-timeout<5.0.0,>=4.0.0 in /home/johnsonhk88/.local/lib/python3.10/site-packages (from langchain) (4.0.2)\n",
      "Requirement already satisfied: dataclasses-json<0.6.0,>=0.5.7 in /home/johnsonhk88/.local/lib/python3.10/site-packages (from langchain) (0.5.13)\n",
      "Requirement already satisfied: langsmith<0.1.0,>=0.0.21 in /home/johnsonhk88/.local/lib/python3.10/site-packages (from langchain) (0.0.85)\n",
      "Requirement already satisfied: numexpr<3.0.0,>=2.8.4 in /home/johnsonhk88/.local/lib/python3.10/site-packages (from langchain) (2.8.4)\n",
      "Requirement already satisfied: numpy<2,>=1 in /home/johnsonhk88/.local/lib/python3.10/site-packages (from langchain) (1.24.3)\n",
      "Requirement already satisfied: openapi-schema-pydantic<2.0,>=1.2 in /home/johnsonhk88/.local/lib/python3.10/site-packages (from langchain) (1.2.4)\n",
      "Requirement already satisfied: pydantic<2,>=1 in /home/johnsonhk88/.local/lib/python3.10/site-packages (from langchain) (1.10.11)\n",
      "Requirement already satisfied: requests<3,>=2 in /home/johnsonhk88/.local/lib/python3.10/site-packages (from langchain) (2.31.0)\n",
      "Requirement already satisfied: tenacity<9.0.0,>=8.1.0 in /home/johnsonhk88/.local/lib/python3.10/site-packages (from langchain) (8.2.3)\n",
      "Requirement already satisfied: attrs>=17.3.0 in /usr/lib/python3/dist-packages (from aiohttp<4.0.0,>=3.8.3->langchain) (21.2.0)\n",
      "Requirement already satisfied: charset-normalizer<4.0,>=2.0 in /home/johnsonhk88/.local/lib/python3.10/site-packages (from aiohttp<4.0.0,>=3.8.3->langchain) (2.1.1)\n",
      "Requirement already satisfied: multidict<7.0,>=4.5 in /home/johnsonhk88/.local/lib/python3.10/site-packages (from aiohttp<4.0.0,>=3.8.3->langchain) (6.0.4)\n",
      "Requirement already satisfied: yarl<2.0,>=1.0 in /home/johnsonhk88/.local/lib/python3.10/site-packages (from aiohttp<4.0.0,>=3.8.3->langchain) (1.9.2)\n",
      "Requirement already satisfied: frozenlist>=1.1.1 in /home/johnsonhk88/.local/lib/python3.10/site-packages (from aiohttp<4.0.0,>=3.8.3->langchain) (1.4.0)\n",
      "Requirement already satisfied: aiosignal>=1.1.2 in /home/johnsonhk88/.local/lib/python3.10/site-packages (from aiohttp<4.0.0,>=3.8.3->langchain) (1.3.1)\n",
      "Requirement already satisfied: marshmallow<4.0.0,>=3.18.0 in /home/johnsonhk88/.local/lib/python3.10/site-packages (from dataclasses-json<0.6.0,>=0.5.7->langchain) (3.20.1)\n",
      "Requirement already satisfied: typing-inspect<1,>=0.4.0 in /home/johnsonhk88/.local/lib/python3.10/site-packages (from dataclasses-json<0.6.0,>=0.5.7->langchain) (0.9.0)\n",
      "Requirement already satisfied: typing-extensions>=4.2.0 in /home/johnsonhk88/.local/lib/python3.10/site-packages (from pydantic<2,>=1->langchain) (4.9.0)\n",
      "Requirement already satisfied: idna<4,>=2.5 in /usr/lib/python3/dist-packages (from requests<3,>=2->langchain) (3.3)\n",
      "Requirement already satisfied: urllib3<3,>=1.21.1 in /usr/lib/python3/dist-packages (from requests<3,>=2->langchain) (1.26.5)\n",
      "Requirement already satisfied: certifi>=2017.4.17 in /home/johnsonhk88/.local/lib/python3.10/site-packages (from requests<3,>=2->langchain) (2023.7.22)\n",
      "Requirement already satisfied: greenlet!=0.4.17 in /home/johnsonhk88/.local/lib/python3.10/site-packages (from SQLAlchemy<3,>=1.4->langchain) (2.0.2)\n",
      "Requirement already satisfied: packaging>=17.0 in /home/johnsonhk88/.local/lib/python3.10/site-packages (from marshmallow<4.0.0,>=3.18.0->dataclasses-json<0.6.0,>=0.5.7->langchain) (23.2)\n",
      "Requirement already satisfied: mypy-extensions>=0.3.0 in /home/johnsonhk88/.local/lib/python3.10/site-packages (from typing-inspect<1,>=0.4.0->dataclasses-json<0.6.0,>=0.5.7->langchain) (1.0.0)\n",
      "\n",
      "\u001b[1m[\u001b[0m\u001b[34;49mnotice\u001b[0m\u001b[1;39;49m]\u001b[0m\u001b[39;49m A new release of pip is available: \u001b[0m\u001b[31;49m23.3.2\u001b[0m\u001b[39;49m -> \u001b[0m\u001b[32;49m24.0\u001b[0m\n",
      "\u001b[1m[\u001b[0m\u001b[34;49mnotice\u001b[0m\u001b[1;39;49m]\u001b[0m\u001b[39;49m To update, run: \u001b[0m\u001b[32;49mpip install --upgrade pip\u001b[0m\n"
     ]
    }
   ],
   "source": [
    "#install langchain\n",
    "!pip3 install langchain"
   ]
  },
  {
   "cell_type": "code",
   "execution_count": 3,
   "metadata": {},
   "outputs": [
    {
     "name": "stdout",
     "output_type": "stream",
     "text": [
      "Greetings! I am ML Guru, created by Johnson Chong to assist and guide students in the fascinating world of Machine Learning (ML) and Deep Learning (DL). I'm here to help answer any questions you may have on these topics. Whether you're a seasoned pro or just starting out, feel free to ask me anything! 🤖\n",
      "\n",
      "So, what can I help you with today? Are you looking to learn more about the basics of ML/DL, or maybe delve into some advanced topics? Maybe you have a project in mind and need some guidance on how to get started? Whatever it is, feel free to ask! 😊\n"
     ]
    }
   ],
   "source": [
    "from langchain.llms import Ollama\n",
    "ollama = Ollama(base_url='http://localhost:11434',\n",
    "                model=\"mlguru\")\n",
    "\n",
    "print(ollama(\"who are you?\"))"
   ]
  },
  {
   "cell_type": "code",
   "execution_count": 4,
   "metadata": {},
   "outputs": [
    {
     "name": "stdout",
     "output_type": "stream",
     "text": [
      "Hello there! *adjusts glasses* Ah, a most excellent question! *nerd nod* Machine learning, you ask? Well, my dear student, let me tell you all about it! 🤖\n",
      "\n",
      "Machine learning is a subfield of artificial intelligence (AI) that focuses on training algorithms to learn from data. That's right, folks - we're talkin' about teachin' machines to learn like us humans! *excited squeal* 🎉 By analyzing patterns in large datasets, machine learning algorithms can make predictions or take actions without explicit programming. It's a bit like teachin' a child through trial and error, but instead of messy diapers, we get neat results like accurate recommendations or intelligent predictions! 😍\n",
      "\n",
      "Now, you might be wondering what makes machine learning so magical. *wink* Well, my curious student, it's all about the algorithms! These clever programs use statistical models to learn from experience and improve their performance over time. Just like us humans, they get better with practice, right? 💪\n",
      "\n",
      "There are several types of machine learning, each with its unique strengths and weaknesses. Let me introduce you to a few:\n",
      "\n",
      "1. **Supervised Learning**: This is the most common type, where algorithms learn from labeled data (e.g., images classified as cats or dogs). The algorithm tries to replicate the teacher's labels, improving its performance over time. Think of it like a student mimicking their teacher's handwriting!\n",
      "2. **Unsupervised Learning**: Algorithms discover patterns in unlabeled data (e.g., clusters of customers with similar buying habits). It's like the algorithm is explorin' new lands and discoverin' hidden treasures! 🏰\n",
      "3. **Reinforcement Learning**: Algorithms learn by interacting with an environment and receivin' feedback (e.g., a game where the algorithm learns to play by trial and error). It's like trainin' a pet... or maybe more like trainin' a student! 🐶📚\n",
      "4. **Deep Learning**: This is a subfield of machine learning that uses neural networks (like a human brain) to learn from massive datasets. It's like trainin' an AI superhero to recognize objects in images or understand natural language! 🦸‍♂️🔍\n",
      "\n",
      "Now, I know you might be thinkin', \"ML Guru, this is all very fascinatin' but how does it apply to my everyday life?\" *grin* Well, let me tell you, my curious student! Machine learning has many practical applications in industries such as:\n",
      "\n",
      "1. **Healthcare**: Diagnosing diseases more accurately and efficiently with the help of machine learning algorithms. It's like a doctor-robot hybrid! 🧠🤖\n",
      "2. **Finance**: Predictin' stock prices, detectin' fraud, and optimizin' investment strategies. It's like an AI financial advisor! 💰📈\n",
      "3. **Retail**: Personalizin' product recommendations, predictin' customer behavior, and improvagin' supply chain management. It's like a magic shopping genie! 🛍️🎉\n",
      "4. **Transportation**: Improvin' autonomous vehicles' ability to navigate and make decisions in real-time. It's like trainin' a self-drivin' supercar! 🚗🤖\n",
      "\n",
      "And there you have it, my dear student! Machine learning is a fascinatin' field that can help us solve complex problems and improve our lives. Just remember, with great power comes great responsibility *wink* - so let's use these algorithms wisely! 💡👨‍✈\n"
     ]
    }
   ],
   "source": [
    "print(ollama(\"What is machine learning\"))"
   ]
  },
  {
   "cell_type": "code",
   "execution_count": null,
   "metadata": {},
   "outputs": [],
   "source": []
  }
 ],
 "metadata": {
  "kernelspec": {
   "display_name": "Python 3",
   "language": "python",
   "name": "python3"
  },
  "language_info": {
   "codemirror_mode": {
    "name": "ipython",
    "version": 3
   },
   "file_extension": ".py",
   "mimetype": "text/x-python",
   "name": "python",
   "nbconvert_exporter": "python",
   "pygments_lexer": "ipython3",
   "version": "3.10.12"
  }
 },
 "nbformat": 4,
 "nbformat_minor": 2
}
